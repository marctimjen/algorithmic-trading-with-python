{
 "cells": [
  {
   "cell_type": "code",
   "execution_count": 16,
   "outputs": [],
   "source": [
    "import sys\n",
    "sys.path.append(\"../..\") # adds higher directory to python modules path\n",
    "from src.pypm import metrics, data_io, indicators\n",
    "import matplotlib.pyplot as plt\n",
    "import numpy as np\n",
    "import pandas as pd\n",
    "from datetime import date, timedelta\n",
    "\n",
    "def daterange(start_date, end_date):\n",
    "    for n in range(int((end_date - start_date).days)):\n",
    "        yield start_date + timedelta(n)\n",
    "\n",
    "awu = data_io.load_eod_data('AWU')\n",
    "bmg = data_io.load_eod_data('BMG')\n",
    "cuu = data_io.load_eod_data('CUU')\n",
    "\n",
    "\n",
    "def plot_function(series_dict: dict, x_lab: str=\"date\", y_lab: str=\"price\"):\n",
    "    \"\"\"\n",
    "    Args:\n",
    "        series_dict (dict): dictionary of data series, where key is the label name.\n",
    "    \"\"\"\n",
    "\n",
    "    for d in series_dict:\n",
    "        plt.plot(series_dict[d], label=d)\n",
    "\n",
    "    plt.legend()\n",
    "    plt.xlabel(x_lab)\n",
    "    plt.ylabel(y_lab)\n",
    "    plt.gcf().autofmt_xdate()\n",
    "    plt.grid()\n",
    "    plt.show()"
   ],
   "metadata": {
    "collapsed": false,
    "pycharm": {
     "name": "#%%\n"
    }
   }
  },
  {
   "cell_type": "code",
   "execution_count": 17,
   "outputs": [],
   "source": [
    "#  Figure 3.1:\n",
    "\n",
    "price_series = awu[\"close\"][\"2019-01\":\"2020-01\"]\n",
    "\n",
    "SMA5 = indicators.calculate_simple_moving_average(price_series, n=5)\n",
    "SMA34 = indicators.calculate_simple_moving_average(price_series, n=34)\n",
    "\n",
    "stonks = {\"AWU\": price_series,\n",
    "          \"SMA n = 5\": SMA5,\n",
    "          \"SMA n = 34\": SMA34}\n",
    "plot_function(stonks)\n"
   ],
   "metadata": {
    "collapsed": false,
    "pycharm": {
     "name": "#%%\n"
    }
   }
  },
  {
   "cell_type": "code",
   "execution_count": 18,
   "outputs": [],
   "source": [
    "#  Figure 3.4:\n",
    "\n",
    "price_series = awu[\"close\"][\"2019-01\":\"2020-01\"]\n",
    "\n",
    "macd = indicators.calculate_macd_oscillator(price_series)\n",
    "\n",
    "stonks = {\"AWU MACD n1=5, n2=34\": macd}\n",
    "plot_function(stonks)"
   ],
   "metadata": {
    "collapsed": false,
    "pycharm": {
     "name": "#%%\n"
    }
   }
  },
  {
   "cell_type": "code",
   "execution_count": 19,
   "outputs": [],
   "source": [
    "\n",
    "\n",
    "# figure 3.5:\n",
    "awu = data_io.load_eod_data('AWU')\n",
    "price_series = awu[\"close\"]\n",
    "\n",
    "boil = indicators.calculate_bollinger_bands(price_series, n=100)\n",
    "stonks = {\"AWU Close\": price_series,\n",
    "          \"AWU Bollinger Bands (n=100)\": boil[\"middle\"],\n",
    "          \"1\": boil[\"upper\"],\n",
    "          \"2\": boil[\"lower\"]\n",
    "          }\n",
    "\n",
    "\n",
    "for d in stonks:\n",
    "    plt.plot(stonks[d], label=d)\n",
    "\n",
    "plt.legend()\n",
    "plt.xlabel(\"price\")\n",
    "plt.ylabel(\"date\")\n",
    "plt.gcf().autofmt_xdate()\n",
    "plt.grid()\n",
    "\n",
    "plt.show()\n"
   ],
   "metadata": {
    "collapsed": false,
    "pycharm": {
     "name": "#%%\n"
    }
   }
  },
  {
   "cell_type": "code",
   "execution_count": 7,
   "outputs": [],
   "source": [
    "#  Figure 3.6:\n",
    "\n",
    "price_series = awu[\"2018-12\":\"2020-01\"]\n",
    "\n",
    "cmf = indicators.calculate_chaikin_money_flow(price_series, n=20)\n",
    "\n",
    "\n",
    "stonks = {\"AWU CMF n=20\": cmf}\n",
    "plot_function(stonks, y_lab=\"CMF\")"
   ],
   "metadata": {
    "collapsed": false,
    "pycharm": {
     "name": "#%%\n"
    }
   }
  },
  {
   "cell_type": "code",
   "execution_count": 8,
   "outputs": [],
   "source": [
    "from src.pypm import signals"
   ],
   "metadata": {
    "collapsed": false,
    "pycharm": {
     "name": "#%%\n"
    }
   }
  },
  {
   "cell_type": "code",
   "execution_count": 9,
   "outputs": [],
   "source": [
    "sig = signals.create_macd_signal(awu[\"close\"], n1=5, n2=100)\n",
    "\n",
    "sma5 = indicators.calculate_simple_moving_average(awu[\"close\"], n=5)\n",
    "sma20 = indicators.calculate_simple_moving_average(awu[\"close\"], n=100)"
   ],
   "metadata": {
    "collapsed": false,
    "pycharm": {
     "name": "#%%\n"
    }
   }
  },
  {
   "cell_type": "code",
   "execution_count": 10,
   "outputs": [],
   "source": [
    "def eq_op(ser, val):\n",
    "    return (ser == val).apply(lambda x: 1 if x else np.nan)"
   ],
   "metadata": {
    "collapsed": false,
    "pycharm": {
     "name": "#%%\n"
    }
   }
  },
  {
   "cell_type": "code",
   "execution_count": 11,
   "outputs": [
    {
     "name": "stdout",
     "output_type": "stream",
     "text": [
      "Using matplotlib backend: QtAgg\n"
     ]
    }
   ],
   "source": [
    "%matplotlib\n",
    "fig, ax = plt.subplots(figsize=(14,8))\n",
    "ax.plot(awu['close'] , label = \"close price\", linewidth=3, color='cornflowerblue', alpha = 1, zorder=1)\n",
    "ax.plot(sma5, label = 'SMA5', linewidth=1.5, alpha = 0.85, zorder=2)\n",
    "ax.plot(sma20, label = 'SMA20', linewidth=1.5, alpha = 0.85, zorder=2)\n",
    "ax.scatter(awu.index, eq_op(sig, 1)*awu['close'] , label='Buy' , marker='^', color='green', zorder=3)\n",
    "ax.scatter(awu.index, eq_op(sig, -1)*awu['close'] , label='Sell' , marker='v', color='red', zorder=3)\n",
    "# ax.set_title(stocksymbols[0] + \" Price History with buy and sell signals\",fontsize=10, backgroundcolor='blue', color='white')\n",
    "# ax.set_xlabel(f'{startdate} - {end_date}' ,fontsize=18)\n",
    "# ax.set_ylabel('Close Price INR (₨)' , fontsize=18)\n",
    "legend = ax.legend()\n",
    "ax.grid()\n",
    "plt.tight_layout()\n",
    "plt.show()"
   ],
   "metadata": {
    "collapsed": false,
    "pycharm": {
     "name": "#%%\n"
    }
   }
  },
  {
   "cell_type": "code",
   "execution_count": 11,
   "outputs": [],
   "source": [],
   "metadata": {
    "collapsed": false,
    "pycharm": {
     "name": "#%%\n"
    }
   }
  },
  {
   "cell_type": "code",
   "execution_count": null,
   "outputs": [],
   "source": [],
   "metadata": {
    "collapsed": false,
    "pycharm": {
     "name": "#%%\n"
    }
   }
  },
  {
   "cell_type": "code",
   "execution_count": 29,
   "outputs": [],
   "source": [
    "sig = signals.create_bollinger_band_signal(awu[\"close\"], n=10)\n",
    "boil = indicators.calculate_bollinger_bands(awu[\"close\"], n=10)\n",
    "stonks = {\"AWU Close\": awu[\"close\"],\n",
    "          \"AWU Bollinger Bands (n=100)\": boil[\"middle\"],\n",
    "          \"1\": boil[\"upper\"],\n",
    "          \"2\": boil[\"lower\"]\n",
    "          }"
   ],
   "metadata": {
    "collapsed": false,
    "pycharm": {
     "name": "#%%\n"
    }
   }
  },
  {
   "cell_type": "code",
   "execution_count": 30,
   "outputs": [],
   "source": [
    "#%matplotlib\n",
    "fig, ax = plt.subplots(figsize=(14,8))\n",
    "ax.plot(awu['close'] , label = \"close price\", linewidth=3, color='cornflowerblue', alpha = 1, zorder=1)\n",
    "\n",
    "ax.scatter(awu.index, eq_op(sig, 1)*awu['close'] , label='Buy' , marker='^', color='green', zorder=3)\n",
    "ax.scatter(awu.index, eq_op(sig, -1)*awu['close'] , label='Sell' , marker='v', color='red', zorder=3)\n",
    "ax.plot(stonks[\"1\"], label = 'upper', linewidth=1.5, alpha = 0.85, zorder=2, c=\"purple\")\n",
    "ax.plot(stonks[\"2\"], label = 'lower', linewidth=1.5, alpha = 0.85, zorder=2, c=\"black\")\n",
    "# ax.set_title(stocksymbols[0] + \" Price History with buy and sell signals\",fontsize=10, backgroundcolor='blue', color='white')\n",
    "# ax.set_xlabel(f'{startdate} - {end_date}' ,fontsize=18)\n",
    "# ax.set_ylabel('Close Price INR (₨)' , fontsize=18)\n",
    "legend = ax.legend()\n",
    "ax.grid()\n",
    "plt.tight_layout()\n",
    "plt.show()"
   ],
   "metadata": {
    "collapsed": false,
    "pycharm": {
     "name": "#%%\n"
    }
   }
  },
  {
   "cell_type": "code",
   "execution_count": null,
   "outputs": [],
   "source": [],
   "metadata": {
    "collapsed": false,
    "pycharm": {
     "name": "#%%\n"
    }
   }
  }
 ],
 "metadata": {
  "kernelspec": {
   "display_name": "Python 3",
   "language": "python",
   "name": "python3"
  },
  "language_info": {
   "codemirror_mode": {
    "name": "ipython",
    "version": 2
   },
   "file_extension": ".py",
   "mimetype": "text/x-python",
   "name": "python",
   "nbconvert_exporter": "python",
   "pygments_lexer": "ipython2",
   "version": "2.7.6"
  }
 },
 "nbformat": 4,
 "nbformat_minor": 0
}